{
 "cells": [
  {
   "cell_type": "markdown",
   "metadata": {
    "_uuid": "805091f330f2ed366d6d02ba2540dcb00efdc7a1"
   },
   "source": [
    "# PetFinder.my Adoption Prediction\n",
    "https://www.kaggle.com/c/petfinder-adoption-prediction\n",
    "\n",
    "## Data description"
   ]
  },
  {
   "cell_type": "markdown",
   "metadata": {},
   "source": [
    "### File descriptions\n",
    "\n",
    "    train.csv - Tabular/text data for the training set\n",
    "    test.csv - Tabular/text data for the test set\n",
    "    sample_submission.csv - A sample submission file in the correct format\n",
    "    breed_labels.csv - Contains Type, and BreedName for each BreedID. Type 1 is dog, 2 is cat.\n",
    "    color_labels.csv - Contains ColorName for each ColorID\n",
    "    state_labels.csv - Contains StateName for each StateID\n",
    "    \n",
    "    \n",
    "### Data Fields\n",
    "\n",
    "    PetID - Unique hash ID of pet profile\n",
    "    AdoptionSpeed - Categorical speed of adoption. Lower is faster. This is the value to predict. See below section for more info.\n",
    "    Type - Type of animal (1 = Dog, 2 = Cat)\n",
    "    Name - Name of pet (Empty if not named)\n",
    "    Age - Age of pet when listed, in months\n",
    "    Breed1 - Primary breed of pet (Refer to BreedLabels dictionary)\n",
    "    Breed2 - Secondary breed of pet, if pet is of mixed breed (Refer to BreedLabels dictionary)\n",
    "    Gender - Gender of pet (1 = Male, 2 = Female, 3 = Mixed, if profile represents group of pets)\n",
    "    Color1 - Color 1 of pet (Refer to ColorLabels dictionary)\n",
    "    Color2 - Color 2 of pet (Refer to ColorLabels dictionary)\n",
    "    Color3 - Color 3 of pet (Refer to ColorLabels dictionary)\n",
    "    MaturitySize - Size at maturity (1 = Small, 2 = Medium, 3 = Large, 4 = Extra Large, 0 = Not Specified)\n",
    "    FurLength - Fur length (1 = Short, 2 = Medium, 3 = Long, 0 = Not Specified)\n",
    "    Vaccinated - Pet has been vaccinated (1 = Yes, 2 = No, 3 = Not Sure)\n",
    "    Dewormed - Pet has been dewormed (1 = Yes, 2 = No, 3 = Not Sure)\n",
    "    Sterilized - Pet has been spayed / neutered (1 = Yes, 2 = No, 3 = Not Sure)\n",
    "    Health - Health Condition (1 = Healthy, 2 = Minor Injury, 3 = Serious Injury, 0 = Not Specified)\n",
    "    Quantity - Number of pets represented in profile\n",
    "    Fee - Adoption fee (0 = Free)\n",
    "    State - State location in Malaysia (Refer to StateLabels dictionary)\n",
    "    RescuerID - Unique hash ID of rescuer\n",
    "    VideoAmt - Total uploaded videos for this pet\n",
    "    PhotoAmt - Total uploaded photos for this pet\n",
    "    Description - Profile write-up for this pet. The primary language used is English, with some in Malay/Chinese\n",
    "\n",
    "### AdoptionSpeed\n",
    "\n",
    "Contestants are required to predict this value. The value is determined by how quickly, if at all, a pet is adopted. The values are determined in the following way:\n",
    "    0 - Pet was adopted on the same day as it was listed.\n",
    "    1 - Pet was adopted between 1 and 7 days (1st week) after being listed.\n",
    "    2 - Pet was adopted between 8 and 30 days (1st month) after being listed.\n",
    "    3 - Pet was adopted between 31 and 90 days (2nd & 3rd month) after being listed.\n",
    "    4 - No adoption after 100 days of being listed. (There are no pets in this dataset that waited between 90 and 100 days). \n",
    "    \n",
    "    \n",
    "### Images\n",
    "\n",
    "For pets that have photos, they will be named in the format of PetID-ImageNumber.jpg. Image 1 is the profile (default) photo set for the pet. For privacy purposes, faces, phone numbers and emails have been masked.\n",
    "Image Metadata\n",
    "\n",
    "We have run the images through Google's Vision API, providing analysis on Face Annotation, Label Annotation, Text Annotation and Image Properties. You may optionally utilize this supplementary information for your image analysis.\n",
    "\n",
    "File name format is PetID-ImageNumber.json.\n",
    "\n",
    "Some properties will not exist in JSON file if not present, i.e. Face Annotation. Text Annotation has been simplified to just 1 entry of the entire text description (instead of the detailed JSON result broken down by individual characters and words). Phone numbers and emails are already anonymized in Text Annotation.\n",
    "\n",
    "Google Vision API reference: https://cloud.google.com/vision/docs/reference/rest/v1/images/annotate\n",
    "\n",
    "\n",
    "### Sentiment Data\n",
    "\n",
    "We have run each pet profile's description through Google's Natural Language API, providing analysis on sentiment and key entities. You may optionally utilize this supplementary information for your pet description analysis. There are some descriptions that the API could not analyze. As such, there are fewer sentiment files than there are rows in the dataset.\n",
    "\n",
    "File name format is PetID.json.\n",
    "\n",
    "Google Natural Language API reference: https://cloud.google.com/natural-language/docs/basics"
   ]
  },
  {
   "cell_type": "markdown",
   "metadata": {},
   "source": [
    "## First look at the data\n",
    "\n",
    "### Library import"
   ]
  },
  {
   "cell_type": "code",
   "execution_count": 1,
   "metadata": {
    "_cell_guid": "b1076dfc-b9ad-4769-8c92-a6c4dae69d19",
    "_uuid": "8f2839f25d086af736a60e9eeb907d3b93b6e0e5"
   },
   "outputs": [
    {
     "name": "stdout",
     "output_type": "stream",
     "text": [
      "['marketdata_sample.csv', 'news_sample.csv']\n"
     ]
    }
   ],
   "source": [
    "# Library import \n",
    "import numpy as np # linear algebra\n",
    "import pandas as pd # data processing, CSV file I/O (e.g. pd.read_csv)\n",
    "import matplotlib.pyplot as plt\n",
    "from kaggle.competitions import twosigmanews\n",
    "\n",
    "import os\n",
    "print(os.listdir(\"../input\"))\n",
    "# Any results you write to the current directory are saved as output.\n",
    "\n",
    "% matplotlib inline"
   ]
  },
  {
   "cell_type": "markdown",
   "metadata": {},
   "source": [
    "### Data fields"
   ]
  },
  {
   "cell_type": "code",
   "execution_count": null,
   "metadata": {},
   "outputs": [],
   "source": []
  },
  {
   "cell_type": "code",
   "execution_count": null,
   "metadata": {},
   "outputs": [],
   "source": []
  },
  {
   "cell_type": "markdown",
   "metadata": {},
   "source": [
    "### Images"
   ]
  },
  {
   "cell_type": "code",
   "execution_count": null,
   "metadata": {},
   "outputs": [],
   "source": []
  },
  {
   "cell_type": "code",
   "execution_count": null,
   "metadata": {},
   "outputs": [],
   "source": []
  },
  {
   "cell_type": "markdown",
   "metadata": {},
   "source": [
    "### Sentiment data"
   ]
  },
  {
   "cell_type": "code",
   "execution_count": null,
   "metadata": {},
   "outputs": [],
   "source": []
  },
  {
   "cell_type": "code",
   "execution_count": null,
   "metadata": {},
   "outputs": [],
   "source": []
  },
  {
   "cell_type": "markdown",
   "metadata": {
    "_uuid": "1b0b651002ad69c424996b1cb63c978099499cd9"
   },
   "source": [
    "## Data cleanup and feature engineering\n",
    "### Data fields"
   ]
  },
  {
   "cell_type": "markdown",
   "metadata": {},
   "source": [
    "Things to try:\n",
    "- asdf\n",
    "- adsf"
   ]
  },
  {
   "cell_type": "markdown",
   "metadata": {},
   "source": [
    "### Images"
   ]
  },
  {
   "cell_type": "markdown",
   "metadata": {},
   "source": [
    "Things to try:\n",
    "- asdf\n",
    "- adsf"
   ]
  },
  {
   "cell_type": "markdown",
   "metadata": {},
   "source": [
    "### Sentiment data"
   ]
  },
  {
   "cell_type": "markdown",
   "metadata": {},
   "source": [
    "Things to try:\n",
    "- asdf\n",
    "- adsf"
   ]
  },
  {
   "cell_type": "markdown",
   "metadata": {},
   "source": [
    "## Cleaned up datasets"
   ]
  },
  {
   "cell_type": "code",
   "execution_count": 36,
   "metadata": {
    "_uuid": "a736172a3c75ffb5a6757bcfe85a9ccac3d15f71"
   },
   "outputs": [],
   "source": [
    "# Reordering for better look & feel\n",
    "\n",
    "# pet_data = "
   ]
  },
  {
   "cell_type": "markdown",
   "metadata": {
    "_uuid": "71ae65dec7339f5ace397f93648bdca069162b18"
   },
   "source": [
    "## Score function"
   ]
  },
  {
   "cell_type": "markdown",
   "metadata": {
    "_uuid": "224f39c7d326d34e24b29c913ebf0114655795b3"
   },
   "source": [
    "We need to compare the predicted column vs. the \"real values\" in the market dataset. We can obtain the real values via market_data['returnsOpenNextMktres10(float64)']. The score will be calculated as shown on competition homepage https://www.kaggle.com/c/two-sigma-financial-news#evaluation. For now, the required column will be predicted with classifier algorithms, the final \"scoreable\" submission file handed in and the score obtained from kaggle.\n",
    "\n",
    "**To be commented**"
   ]
  },
  {
   "cell_type": "markdown",
   "metadata": {
    "_uuid": "30252f45122f119746ba492c948df6419f7daf6e"
   },
   "source": [
    "## Train test split and dataset merger\n",
    "\n",
    "We have data for the entire training time series, so a time series train_test_split is the way to go. In total, we have more than 4 million rows in the market dataset, so a good split should be 95% training data and 5% test data. \n",
    "\n",
    "**This is subject to change based on iterations.**"
   ]
  },
  {
   "cell_type": "code",
   "execution_count": 37,
   "metadata": {
    "_uuid": "bd327ce6ee9a0be3889873e846ad4ead829c624e"
   },
   "outputs": [],
   "source": [
    "# Merging datasets along asset and date\n",
    "\n",
    "news_data['unique_id'] = news_data.date.astype(str) + '_' + news_data.assetName.astype(str)\n",
    "market_data['unique_id'] = market_data.date.astype(str) + '_' + market_data.assetName.astype(str)"
   ]
  },
  {
   "cell_type": "code",
   "execution_count": null,
   "metadata": {
    "_uuid": "a432a0679450d4cbf2524a02a0ef958c194f4c84"
   },
   "outputs": [],
   "source": [
    "data = pd.merge(news_data, market_data, how='outer', on='unique_id')\n",
    "# Code to be added, could also be done before train test split\n",
    "\n",
    "data.head()"
   ]
  },
  {
   "cell_type": "code",
   "execution_count": null,
   "metadata": {
    "_uuid": "4aded88e4ffd6806b277865be1cc7e4a5a3b2e51"
   },
   "outputs": [],
   "source": [
    "# Splitting data up to a certain date\n",
    "\n",
    "train_size = int(len(data['date']) * 0.95)\n",
    "train, test = data[0:train_size], data[train_size_mkt:len(data['date'])]\n",
    "\n",
    "print('Observations: %d' % (len(data)))\n",
    "print('Training Observations: %d' % (len(train)))\n",
    "print('Testing Observations: %d' % (len(test)))"
   ]
  },
  {
   "cell_type": "code",
   "execution_count": null,
   "metadata": {
    "_uuid": "8a4671b4ca15dd905f5a0542244dd1b15b330e12"
   },
   "outputs": [],
   "source": [
    "# Finding out the last date for market\n",
    "train.tail()"
   ]
  },
  {
   "cell_type": "markdown",
   "metadata": {
    "_uuid": "6dbf640f2e00686342b8744755cef364ba334522"
   },
   "source": [
    "## Develop the model"
   ]
  },
  {
   "cell_type": "markdown",
   "metadata": {
    "_uuid": "285935371fd735615943b51872ba00e9cfe765e7"
   },
   "source": [
    "Following classifier models will be tried for this project: \n",
    "- https://scikit-learn.org/stable/modules/sgd.html#classification\n",
    "- https://scikit-learn.org/stable/modules/generated/sklearn.neighbors.KNeighborsClassifier.html#sklearn.neighbors.KNeighborsClassifier\n",
    "- https://scikit-learn.org/stable/modules/generated/sklearn.neural_network.MLPClassifier.html#sklearn.neural_network.MLPClassifier\n",
    "- https://scikit-learn.org/stable/modules/generated/sklearn.svm.LinearSVC.html#sklearn.svm.LinearSVC\n",
    "- https://scikit-learn.org/stable/modules/generated/sklearn.svm.SVC.html\n",
    "- https://scikit-learn.org/stable/modules/generated/sklearn.ensemble.AdaBoostClassifier.html#sklearn.ensemble.AdaBoostClassifier\n",
    "- https://scikit-learn.org/stable/modules/generated/sklearn.ensemble.BaggingClassifier.html#sklearn.ensemble.BaggingClassifier\n",
    "- https://scikit-learn.org/stable/modules/generated/sklearn.ensemble.GradientBoostingClassifier.html#sklearn.ensemble.GradientBoostingClassifier\n",
    "- https://scikit-learn.org/stable/modules/generated/sklearn.ensemble.RandomForestClassifier.html#sklearn.ensemble.RandomForestClassifier\n",
    "- https://machinelearningmastery.com/develop-first-xgboost-model-python-scikit-learn/\n",
    "\n",
    "**Hint for later: check to keep only the full minus one dummies per original variable**"
   ]
  },
  {
   "cell_type": "code",
   "execution_count": null,
   "metadata": {
    "_uuid": "ab16aa03b1dc2744c46f52d9d017c82f2458a857"
   },
   "outputs": [],
   "source": []
  },
  {
   "cell_type": "code",
   "execution_count": null,
   "metadata": {
    "_uuid": "3a29f446d9743f28d23cb7c510e86f21da9706ec"
   },
   "outputs": [],
   "source": []
  },
  {
   "cell_type": "code",
   "execution_count": null,
   "metadata": {
    "_uuid": "69a0ae72f3bca6ae229261f75571d5ddc996bf59"
   },
   "outputs": [],
   "source": []
  },
  {
   "cell_type": "code",
   "execution_count": null,
   "metadata": {
    "_uuid": "b489956257b2096807760a3bc0b2b0f3475c3a6b"
   },
   "outputs": [],
   "source": []
  }
 ],
 "metadata": {
  "kernelspec": {
   "display_name": "Python 3",
   "language": "python",
   "name": "python3"
  },
  "language_info": {
   "codemirror_mode": {
    "name": "ipython",
    "version": 3
   },
   "file_extension": ".py",
   "mimetype": "text/x-python",
   "name": "python",
   "nbconvert_exporter": "python",
   "pygments_lexer": "ipython3",
   "version": "3.7.1"
  }
 },
 "nbformat": 4,
 "nbformat_minor": 1
}
